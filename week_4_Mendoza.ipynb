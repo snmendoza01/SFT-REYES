{
  "cells": [
    {
      "cell_type": "markdown",
      "metadata": {},
      "source": [
        "---\n",
        "header-includes: \n",
        "  - \\usepackage{tikz}\n",
        "---"
      ]
    },
    {
      "cell_type": "markdown",
      "metadata": {
        "id": "28B0uWQ5XMNh"
      },
      "source": [
        "# From Statistical to Quantum Field Theories"
      ]
    },
    {
      "cell_type": "markdown",
      "metadata": {
        "id": "iGz_Xryd69-H"
      },
      "source": [
        "At the end of each question is a number (I) - (III). Problems labelled (I) should be prioritized. They are easier than problems labelled (II) and (III). Problems labelled (III) are much harder and we don't expect that everyone will be able to solve them. However, doing it can be very enriching."
      ]
    },
    {
      "cell_type": "markdown",
      "metadata": {
        "id": "U1i3n8R-IVV9"
      },
      "source": []
    },
    {
      "cell_type": "markdown",
      "metadata": {
        "id": "IIIB8p0A2s91"
      },
      "source": [
        "## 0. [I-III] Developing Intuition"
      ]
    },
    {
      "cell_type": "markdown",
      "metadata": {
        "id": "G1l0moDa27fK"
      },
      "source": [
        "a) [I] Suppose that $|\\psi\\rangle$ is the state at time $t$ of a quantum mechanical particle in 1D space. Let $x$ be a possible position of said particle. What is the meaning of $\\langle x|\\psi\\rangle$?"
      ]
    },
    {
      "cell_type": "markdown",
      "metadata": {
        "id": "Yl_vDp5O3noj"
      },
      "source": [
        "It the probability (density) of finding $\\ket{\\psi}$ at $x$."
      ]
    },
    {
      "cell_type": "markdown",
      "metadata": {
        "id": "zyqj213V382V"
      },
      "source": [
        "b) [I] Suppose that $|\\psi\\rangle$ is the state at time $t$ of a quantum field theory in $1+d$ dimensions. Let $\\varphi$ be a possible field configuration at time $t$. What is the meaning of $\\langle\\varphi|\\psi\\rangle$?"
      ]
    },
    {
      "cell_type": "markdown",
      "metadata": {
        "id": "GS-85uoT4gIH"
      },
      "source": [
        "It measures the overlap between $\\ket{\\psi}$ and $\\ket{\\varphi}$. _How similar are they._ Or, what is the probability to find $\\ket{\\psi}$ in the configuration $\\ket{\\varphi}$."
      ]
    },
    {
      "cell_type": "markdown",
      "metadata": {
        "id": "27TeXb6544Ah"
      },
      "source": [
        "c) [I] Explain intuitively why the quantum mechanics of a single particle moving in a 1D space is equivalent to a scalar quantum field in $1+0$ dimensions."
      ]
    },
    {
      "cell_type": "markdown",
      "metadata": {
        "id": "_2tLTCSC5G0t"
      },
      "source": [
        "For a scalar quantum field in $1+0$ dimensions, we can think of the scalar field as being the coordinate $x(t)$. We can basically think of the scalar field as a map into the position eigenstates, which make up a \"basis\" of the Hilbert Space in which we set our quantum mechanical context."
      ]
    },
    {
      "cell_type": "markdown",
      "metadata": {
        "id": "l3qVSCcFIq9L"
      },
      "source": [
        "d) [I] If the particle was moving in 3D space, how many scalar fields in $1+0$ dimensions would this be equivalent to?"
      ]
    },
    {
      "cell_type": "markdown",
      "metadata": {
        "id": "UI1pVJavIydE"
      },
      "source": [
        "3 scalar fields, one for each dimension."
      ]
    },
    {
      "cell_type": "markdown",
      "metadata": {
        "id": "b80u02S5IzCT"
      },
      "source": [
        "e) [II] If the particle was moving in a sphere, what would this be equivalent to in the language of QFT?"
      ]
    },
    {
      "cell_type": "markdown",
      "metadata": {
        "id": "PquvTIVBI6KA"
      },
      "source": [
        "It would be $3$ scalar fields, with the constraint of $\\sum_{a=1}^3 \\phi^2_i(t)=r^2$, with $r$ being the radius of the sphere."
      ]
    },
    {
      "cell_type": "markdown",
      "metadata": {
        "id": "S72C_6awI-x5"
      },
      "source": [
        "f) [III] If we have a string moving in 10D space, what would this be equivalent to in the language of QFT?"
      ]
    },
    {
      "cell_type": "markdown",
      "metadata": {
        "id": "SEHDP0SDJGR_"
      },
      "source": [
        "10 scalar field in (1+1) dimensional space (strings have worldhseets precisely because of this)."
      ]
    },
    {
      "cell_type": "markdown",
      "metadata": {
        "id": "1IGUG6XHCiE3"
      },
      "source": [
        "g) [I] As we saw in the meeting, a 1D Ising spin chain is dual to a single quantum spin-1/2 particle. Describe intuitively a typical configuration of the 1D Ising chain at low and high temperatures. What do these correspond to in the quantum spin-1/2 particle picture?"
      ]
    },
    {
      "cell_type": "markdown",
      "metadata": {
        "id": "jeWJCWRGEL_G"
      },
      "source": [
        "At low temperatures, the system tends to align in a definite direction (or have large clusters of spins aligned), meanwhile at high temperatures the system looks more disordered and neighbors are able to have different spins more often. For the quantum particle picture, the low temperature means that the spin rarely changes direction when moving through time (as often as it clusters were separated in the 1D chain), while in high temperatures the particle will change directions quite often."
      ]
    },
    {
      "cell_type": "markdown",
      "metadata": {
        "id": "w3hpb0IeF9uU"
      },
      "source": [
        "h) [I] Can you summarize the duality between a classical statistical field theory in $d$ spatial dimensions and a quantum field theory in $1+(d-1)$ dimensions? What does this tell you about quantum mechanics?"
      ]
    },
    {
      "cell_type": "markdown",
      "metadata": {
        "id": "XjTclWKJGQmO"
      },
      "source": [
        "A classical statistical field theory in $d$ dimensions can be turn into a QFT with 1 + (D-1) dimensions by preforming a Wick rotation $x_0 \\to it$ (we turn one of the spatial dimensions into a time dimension). This tells us that quantum mechanics is just the Wick transofrm of a $1D$  statistical field theory."
      ]
    },
    {
      "cell_type": "markdown",
      "metadata": {
        "id": "6O7y42uNLsvr"
      },
      "source": [
        "## 1. [I] Another Route Towards Wick's Theorem"
      ]
    },
    {
      "cell_type": "markdown",
      "metadata": {
        "id": "dua9wW9FMhaf"
      },
      "source": [
        "Let us use the notation\n",
        "$$\\langle F\\rangle=\\int\\text{d}^N\\vec{x}\\,e^{-S(\\vec{x})}F(\\vec{x}).$$\n",
        "This resembles an average of an observable $F$ of an SFT whose states are given by the $N$ dimensional vector $\\vec{x}$ and whose Hamiltonian is $S$. It is not normalized but everything we are going to say is true regardless of whether we normalize the integral or not.\n",
        "\n",
        "Remark: In actual field theories, the vector $\\vec{x}$ is replaced by the infinite dimensional field configuration $\\phi.$ Confusingly, space in statistical field theory is often denoted by $\\vec{x}$, so that the field configuration is a function $\\phi=\\phi(\\vec{x})$. However, this latter meaning of $\\vec{x}$ has nothing to do with the $\\vec{x}$ that we have in our integral above. Instead the $\\vec{x}$ in the integral above corresponds to the configuration $\\phi$ itself. I apologize for this awkward notation but it seems standard."
      ]
    },
    {
      "cell_type": "markdown",
      "metadata": {
        "id": "Pi4pWeRcL2XM"
      },
      "source": [
        "a) [I] Show the Schwinger-Dyson equation\n",
        "$$\\left\\langle \\frac{\\partial S}{\\partial x^i}F\\right\\rangle=\\left\\langle\\frac{\\partial F}{\\partial x^i}\\right\\rangle.$$\n",
        "\n",
        "Hint: This is essentially integration by parts. Apply the product rule (Leibniz rule) for derivatives on the left hand side of the equation\n",
        "$$\\int\\text{d}^N\\vec{x}\\,\\frac{\\partial}{\\partial x^i}\\left(e^{-S(\\vec{x})}F(\\vec{x})\\right)=0.$$\n",
        "The latter is true because of the fundamental theorem of calculus\n",
        "$$\\int_{-\\infty}^\\infty\\text{d}x^i\\,\\frac{\\partial}{\\partial x^i}\\left(e^{-S(\\vec{x})}F(\\vec{x})\\right)=\\left[e^{-S(\\vec{x})}F(\\vec{x})\\right]_{-\\infty}^\\infty=0.\\,\\,\\,\\,\\text{(no summation convention)}$$\n",
        "which is true as long as $F$ does not grow at infinity faster than $e^{-S}$ decays. This is the case if $S$ and $F$ are polynomials and $S$ grows at infinity."
      ]
    },
    {
      "cell_type": "markdown",
      "metadata": {
        "id": "2A1tBzQtO3Ja"
      },
      "source": [
        "\\begin{align*}\n",
        "    \\left\\langle \\frac{\\partial S}{\\partial x^i}F\\right\\rangle&=\\int \\mathrm{d} ^N x\\; e^{-S(\\vec{x})}\\frac{\\partial}{\\partial x^i}[S(\\vec{x})]F = -\\int \\mathrm{d} ^N x\\; \\frac{\\partial}{\\partial x^i}\\left[e^{-S(\\vec{x})}[S(\\vec{x})\\right]F\\\\\n",
        "    &=-\\underbrace{\\int \\mathrm{d}^N x\\; \\frac{\\partial}{\\partial x^i}\\left[ e^{-S(\\vec{x})}S(\\vec{x}) F(\\vec{x}) \\right]}_{=0} + \\int \\mathrm{d}^N x\\; e^{S(\\vec{x})}\\frac{\\partial}{\\partial x^i}F(\\vec{x})\\\\\n",
        "    &=\\langle\\frac{\\partial}{\\partial x^i}F(\\vec{x})\\rangle\n",
        "\\end{align*}"
      ]
    },
    {
      "cell_type": "markdown",
      "metadata": {
        "id": "17MHPdygSdvL"
      },
      "source": [
        "b) [I] Consider a free theory, i.e. one in which $S(\\vec{x})=\\frac{1}{2}\\sum_{i,j=1}^Nx^iA_{ij}x^j$ for a symmetric $N\\times N$ matrix $A_{ij}$. Let $A^{ij}$ be the inverse of $A_{ij}$, i.e. $\\sum_{j=1}^NA_{ij}A^{jk}=\\delta_i^k,$ where the latter is $1$ if $i=k$ or $0$ if $i\\neq k$. We have called $A^{ij}$ the propagator before. Show that the Schwinger-Dyson equation implies Wick's theorem\n",
        "$$\\langle x^{i_1}x^{i_2}\\cdots x^{i_n}\\rangle=\\sum_{l=2}^n A^{i_1i_l}\\langle x^{i_2}\\cdots x^{i_{l-1}}x^{i_{l+1}}\\cdots x^{i_n}\\rangle.$$\n",
        "\n",
        "Hint: Consider the Schwinger-Dyson equation with $F=x^{i_2}\\cdots x^{i_n}$. It might be useful for this to note that\n",
        "$$\\frac{\\partial S}{\\partial x^i}=\\sum_{j=1}^NA_{ij}x^j,$$\n",
        "and\n",
        "$$\\frac{\\partial}{\\partial x^i}x^{i_2}\\cdots x^{i_n}=\\sum_{l=2}^n x^{i_2}\\cdots x^{i_{l-1}}\\delta^{i_l}_{i}x^{i_{l+1}}\\cdots x^{i_n}$$\n",
        "You might also want to consider multiplying the resulting equation by $A^{i_1 i}$ and summing over $i$."
      ]
    },
    {
      "cell_type": "markdown",
      "metadata": {
        "id": "zKowa2p4VWJB"
      },
      "source": [
        "Consider $F(x) = x^{i_2}\\ldots x^{i_n}$, then $\\partial_i F(x) = \\sum_{l=2}^n x^{i_2}\\ldots \\delta^{i_l}_i\\ldots x^{i_n}$. Using Schwinger-Dyson equation:\n",
        "$$\\langle \\sum_{l=2}^n x^{i_2}\\ldots \\delta^{i_l}_i\\ldots x^{i_n}\\rangle = \\langle A_{i j}x^j x^{i_2}\\ldots x^{i_n} \\rangle$$\n",
        "\n",
        "Then, using linearity of $\\langle \\cdot \\rangle$ and multiplying both sides by $A^{i_1 i}$:\n",
        "$$ \\sum_{l=2}^n A^{i_1 i_l} \\langle x^{i_2}\\ldots \\widehat{x}^{i_l} \\ldots x^{i_n}\\rangle=\\langle x^{i_1}x^{i_2}\\ldots x^{i_n} \\rangle$$\n",
        "where the $\\widehat{\\cdot}$ means that the element is not present."
      ]
    },
    {
      "cell_type": "markdown",
      "metadata": {
        "id": "8GuZHHp5XQIp"
      },
      "source": [
        "c) [I] Compare this version of Wick's theorem to the one studied in the last report. Do you see why they say the same thing? You might find useful to do an explicit example, say with $l=4$."
      ]
    },
    {
      "cell_type": "markdown",
      "metadata": {
        "id": "2VLy8_WiXeRy"
      },
      "source": [
        "__Answer:__\n",
        "We can see that indeed for $n=2k$, we can separete into two cases ($l=2$, and $l\\neq 2$): \n",
        "$$\\langle x^{i_1}\\ldots x^{i_n} \\rangle  = A^{i_1 i_2} \\langle x^{i_3}\\ldots x^{i_n}\\rangle+\n",
        "\\sum_{l=3}^n A^{i_1 i_l}\\langle x^{i_2}\\ldots \\widehat{x}^{i_l} \\ldots x^{i_n}\\rangle$$\n",
        "Using the identity once again:\n",
        "\n",
        "$$\n",
        "    = \\sum_{m=4}^n A^{i_1 i_2} A^{i_3 i_m} \\langle x^{i_4} \\ldots \\widehat{x}^{i_m}\\ldots x^{i_n}\\rangle + \\sum_{l=3}^n \\sum_{\\substack{m=3 \\\\ m\\neq l}}^n \n",
        "    A^{i_1 i_l}A^{i_2 i_m}\\langle x^{i_3}\\ldots \\widehat{x}^{i_m}\\ldots \\widehat{x}^{i_l}\\ldots x^{i_n}\\rangle \n",
        "$$\n",
        "\n",
        "In the case where $n=4$, we have:\n",
        "$$\\langle x^{i_1}x^{i_2}x^{i_3} x^{i_4} \\rangle = A^{i_1 i_2}A^{i_3 i_4}\\langle 1 \\rangle +A^{i_1 i_3}A^{i_2 i_4}\\langle 1 \\rangle +A^{i_1 i_4}A^{i_2 i_3}\\langle 1 \\rangle $$\n",
        "\n",
        "which are indeed all possible combinations of two-point correlators.\n",
        "\n",
        "In fact, the general formula can clearly be seen to be equivalent to Wick's Theorem by induction. Assuming we have all possible pairings of two-point correlators for $n-2$ elements, we can see that the first term in the equation contributes all terms which have $i_1$ paired with $i_2$, while the second term contributes all others (and none can be paired to a repeated index)."
      ]
    },
    {
      "cell_type": "markdown",
      "metadata": {
        "id": "KLHgxealMxgN"
      },
      "source": [
        "## 2. [I] 1D Ising Model through Domain Walls"
      ]
    },
    {
      "cell_type": "markdown",
      "metadata": {
        "id": "xNAf0-c6n_PE"
      },
      "source": [
        "a) [I] Draw an Ising chain with 8 sites on a circle. How many links does it have? Draw a configuration of 3 domain walls and try to write a corresponding configuration of spins. Do you see a problem? Draw an admissible random configuration of domain walls and the two corresponding configurations of spins associated to it. How many configurations of domain walls are there for an Ising chain of N sites on a circle?"
      ]
    },
    {
      "cell_type": "markdown",
      "metadata": {
        "id": "SA14-U83tj_o"
      },
      "source": [
        "We cannot have an odd number of domain walls in a circle (we could if the boundaries were not periodic), simply because the last lattice element needs to be the same as the first. \n",
        "\n",
        "We can have $2^{N-1}$ possible configurations of domain walls for an Ising chain of $N$ sites. This can be seen because the first $N-1$ links are free to either be or not be a domain wall, but the $n-1^{\\text{th}}$ link will completely determine the $n^{\\text{th}}$ (in order to have consistent periodic boundary conditions).\n"
      ]
    },
    {
      "cell_type": "code",
      "execution_count": null,
      "metadata": {
        "id": "1MGDEWBebb0G"
      },
      "outputs": [],
      "source": []
    },
    {
      "cell_type": "markdown",
      "metadata": {
        "id": "TaVqa9zxvRse"
      },
      "source": [
        "b) [I] Compute an array m[state, link], where the zeroth axis labels the possible configurations of domain walls (i.e. has range $2^{N-1}$) and the first axis labels the link (i.e. has range $N$). m[state, link] should be 1 if there is a wall in the configuration labelled by \"state\" in the link labelled by \"link.\" It should be zero otherwise. Do this for $N=10$."
      ]
    },
    {
      "cell_type": "code",
      "execution_count": 72,
      "metadata": {},
      "outputs": [
        {
          "name": "stdout",
          "output_type": "stream",
          "text": [
            "[[0 0 0 ... 0 0 0]\n",
            " [0 0 0 ... 0 0 1]\n",
            " [0 0 0 ... 0 1 0]\n",
            " ...\n",
            " [1 1 1 ... 1 0 1]\n",
            " [1 1 1 ... 1 1 0]\n",
            " [1 1 1 ... 1 1 1]]\n"
          ]
        }
      ],
      "source": [
        "import numpy as np\n",
        "from itertools import product\n",
        "N = 10\n",
        "m = np.array(list(product([0,1], repeat=N-1)))\n",
        "print(m)\n"
      ]
    },
    {
      "cell_type": "markdown",
      "metadata": {
        "id": "lWdGghxFx7RV"
      },
      "source": [
        "c) [I] As in the report of week 1, plot the free energy ($F/JN$), average energy ($E/JN$), and entropy ($S/N$), as a function of the temperature ($T/J$) of the system. Recall that in terms of domain walls,\n",
        "$$Z=2e^{\\beta J N}\\sum_{D}e^{-2\\beta J\\sum_{i=1}^N D_i}.$$\n",
        "Although one can solve this problem analytically, you should strive to do these sums numerically in this problem.  "
      ]
    },
    {
      "cell_type": "code",
      "execution_count": 83,
      "metadata": {
        "id": "BVQbFO3DzNJR"
      },
      "outputs": [
        {
          "data": {
            "image/png": "[encoded data removed]",
            "text/plain": [
              "<Figure size 432x288 with 1 Axes>"
            ]
          },
          "metadata": {
            "needs_background": "light"
          },
          "output_type": "display_data"
        }
      ],
      "source": [
        "import matplotlib.pyplot as plt\n",
        "\n",
        "def partition_func_temp(T: np.ndarray, J: float) -> np.ndarray:\n",
        "    return 2 * np.exp(-T*J*N) * np.sum(\n",
        "        np.exp(2*J*np.multiply.outer(T, np.sum(m, axis=1))), axis=1)\n",
        "    \n",
        "    \n",
        "Ts, J = np.linspace(0.01, 5, 300), 1\n",
        "    \n",
        "Z = partition_func_temp(Ts, J)\n",
        "F = -np.log(Z)/N/J*Ts\n",
        "epsi = 1e-6\n",
        "E = (np.log(partition_func_temp(Ts+epsi, J)) - np.log(Z))/epsi\n",
        "S = 1/Ts * (E-F)\n",
        "plt.plot(Ts, F/Ts, label='F')\n",
        "plt.show()\n"
      ]
    },
    {
      "cell_type": "markdown",
      "metadata": {
        "id": "W9rwgc1q5Jmq"
      },
      "source": [
        "d) [I] Obtain analytical results for the quantities above and compare your results."
      ]
    },
    {
      "cell_type": "markdown",
      "metadata": {
        "id": "DUShMpmA5RdL"
      },
      "source": [
        "\n"
      ]
    },
    {
      "cell_type": "code",
      "execution_count": null,
      "metadata": {
        "id": "QcKbD7qu5RC9"
      },
      "outputs": [],
      "source": []
    },
    {
      "cell_type": "markdown",
      "metadata": {
        "id": "T8WHaJ_QXf5-"
      },
      "source": [
        "## 3. [I] Hamiltonian of the quantum dual to the 1D Ising model\n",
        "\n"
      ]
    },
    {
      "cell_type": "markdown",
      "metadata": {
        "id": "2usDKbOuYALU"
      },
      "source": [
        "Consider a 1D open Ising chain of $N+1$ particles labeled $0,\\dots,N$ without an external magnetic field. Let us use boundary conditions so that the $0$-th particle has spin $s_i$ and the $N$-th particle has spin $s_f$. We saw that the partition function of this theory can be written in the form\n",
        "$$Z^{(N)}=\\langle s_f|U(N)|s_i\\rangle.$$\n",
        "In here $U(N)$ is an operator on the 2-dimensional Hilbert space spanned by the configurations of a single particle of the Ising chain $\\mathcal{H}=\\text{Span}\\{|+1\\rangle,|-1\\rangle\\}$. It is of the form $U(N)=U(1)^N$, where $U(1)$ is also known as the transfer matrix. In the basis of these configurations it takes the matrix representation\n",
        "$$U(1) = \\begin{pmatrix}\n",
        "e^{\\beta J} & e^{-\\beta J}\\\\\n",
        "e^{-\\beta J} & e^{\\beta J}\n",
        "\\end{pmatrix}.$$\n",
        "\n",
        "This Hilbert space is of course the same as the Hilbert space of a quantum spin-1/2 particle. Then the partition function of the classical 1D spin chain is related to the quantum statistical mechanics of this single spin-1/2 particle. The Hamiltonian $H$ of the system is given by the relation\n",
        "$$U(N)=e^{-NH}.$$"
      ]
    },
    {
      "cell_type": "code",
      "execution_count": null,
      "metadata": {},
      "outputs": [],
      "source": []
    },
    {
      "cell_type": "markdown",
      "metadata": {
        "id": "0NxAECZgBc22"
      },
      "source": [
        "a) [I] Compute this Hamiltonian. What are the possible energies of the system? Can you verify your result for the partition function in problem 2.d) by using these energies?\n",
        "\n",
        "Hint: This problem essentially requires computing $H=-\\ln(U(1))$. This is a linear algebra problem which can be done by diagonalizing $U(1)$. Although not necessary, the diagonalization can be done very simply if one expands $U(1)$ in terms of the unit matrix and the Pauli sigma matrices. To verify the result of problem 2.d) note that the partition function under periodic boundary conditions is $\\text{tr}(U(N)).$\n"
      ]
    },
    {
      "cell_type": "markdown",
      "metadata": {
        "id": "Q6nqbLSdb0e4"
      },
      "source": [
        "We have $H = -\\frac{\\log(U(N))}{N} = -\\frac{\\log(U(1)^N)}{N} = -\\log(U(1))$. \n",
        "\n",
        "Now we proceed to calculate the eigenvalues and eigenvectors of $U(1)$:\n",
        "\\begin{align*}\n",
        "    \\lambda_\\pm = e^{\\beta J}\\pm \\sqrt{e^{2\\beta J}-2\\sinh(2\\beta J)}= e^{\\beta J}\\pm\\sqrt{e^{-2\\beta J}} = e^{\\beta J}\\pm e^{-\\beta J}\n",
        "\\end{align*}\n",
        "Then the first line of eigenvector equations reads: \n",
        "$$\\lambda_\\pm x- e^{\\beta J}x + e^{-\\beta J}y = 0 \\Rightarrow \\pm e^{-\\beta J}x + e^{-\\beta J}y = 0\\implies x = \\mp y$$\n",
        "Thus, $\\ket{\\psi_\\pm} = (1, \\mp 1)^T$. Then, our matrix is given by $U(1)= \\frac{1}{2}P^T \\Lambda P$, with\n",
        "$$\\Lambda = \\mathrm{Diag}(2\\cosh(\\beta J), 2\\sinh(\\beta J)), \\quad P =\\begin{pmatrix} 1&1\\\\-1&1\\end{pmatrix}$$\n",
        "And thus, \n",
        "\\begin{align*}\n",
        "    H&=\\frac{1}{2}\\begin{pmatrix} 1&-1\\\\1&1\\end{pmatrix}\\begin{pmatrix} \\log(2\\cosh(\\beta J))&0\\\\0&2\\sinh(\\beta J)\\end{pmatrix}\\begin{pmatrix} 1&1\\\\-1&1\\end{pmatrix}\\\\\n",
        "    &=\\frac{1}{2}\\begin{pmatrix}\\log(4\\cosh(\\beta J)\\sinh(\\beta J))&\\log\\coth(\\beta J)\\\\ \\log\\coth(\\beta J)&\\log(4\\cosh(\\beta J)\\sinh(\\beta J))\\end{pmatrix}\n",
        "\\end{align*}"
      ]
    },
    {
      "cell_type": "markdown",
      "metadata": {
        "id": "-09g2dKGBh6r"
      },
      "source": [
        "b) [I] Up to a constant shift in energy, every Hamiltonian of a spin-1/2 system can be written in the form $H=\\frac{1}{2}\\vec{B}\\cdot\\vec{\\sigma}$, with $\\sigma=(\\sigma_x,\\sigma_y,\\sigma_z)$ the vector of Pauli matrices. Compute the magnetic field (up to constants that fix the dimension) $\\vec{B}$ for the quantum dual of the 1D Ising model. Plot its magnitude as a function of $\\beta J$. Discuss this physically in the framework of the duality between this spin-1/2 particle and the 1D Ising chain. Does this agree to your result to problem 0.g)?"
      ]
    },
    {
      "cell_type": "markdown",
      "metadata": {
        "id": "3u2OUgG0CNEo"
      },
      "source": [
        "First, we realize that the shift of the Hamiltonian is simply given by $\\frac{1}{2}\\mathrm{Tr}H$ since the pauli sigma matrices are traceless (and our hamiltonian is a $2\\times 2$ matrix). Thus, $E_{\\text{shift}}=\\frac{1}{2}\\log(4\\cosh(\\beta J)\\sinh(\\beta J))$. We will now proceed to work with a shifted hamiltonian, subtracted $E_{\\text{shift}}$.\n",
        "Then, we consider the commutator and anticommutator relations of the sigma matrices, where we have:\n",
        "$$H \\sigma_j = \\frac{1}{2}B^i \\sigma_i \\sigma_j = \\frac{1}{4}B^i([\\sigma_i, \\sigma_j]+\\{\\sigma_i, \\sigma_j\\})= \\frac{1}{4}B^i(\\epsilon_{ijk}\\sigma^j + 2\\delta_{ij}\\mathbf{1})$$\n",
        "\n",
        "Now, given that the pauli sigma matrices are traceless, we can take the trace of the product on the $lhs$ and have:\n",
        "$$\\mathrm{Tr}\\{H \\sigma_j\\} = \\frac{1}{2} \\cdot 2 B^j$$\n",
        "where the extra factor of two comes from taking the trace of $\\mathbf{1}$.\n",
        "Then:\n",
        "\\begin{align*}\n",
        "    B^1 &= \\mathrm{Tr}\\{H \\sigma_1\\} = \\frac{1}{2}\\mathrm{Tr}\\begin{pmatrix}0&\\log(\\coth(\\beta J))\\\\ \\log(\\coth(\\beta J))& 0\\end{pmatrix}\\begin{pmatrix}0&1\\\\1&0\\end{pmatrix} = \\log\\coth\\beta J\\\\\n",
        "    B^2  &= \\frac{1}{2}\\mathrm{Tr}\\begin{pmatrix}0&\\log(\\coth(\\beta J))\\\\ \\log(\\coth(\\beta J))& 0\\end{pmatrix}\\begin{pmatrix}0&-i\\\\i&0\\end{pmatrix} = 0\\\\\n",
        "    B^3 &= \\frac{1}{2}\\mathrm{Tr}\\begin{pmatrix}0&\\log(\\coth(\\beta J))\\\\ \\log(\\coth(\\beta J))& 0\\end{pmatrix}\\begin{pmatrix}1&0\\\\0&-1\\end{pmatrix} = 0\n",
        "\\end{align*}\n",
        "\n",
        "and thus $\\vec{B}=B(\\beta)\\hat{x}$, with $B(\\beta) = \\log\\coth(\\beta J)$ (which we will now proceed to plot)."
      ]
    },
    {
      "cell_type": "code",
      "execution_count": 85,
      "metadata": {
        "id": "_jwxhr_oDBrE"
      },
      "outputs": [
        {
          "data": {
            "image/png": "[encoded data removed]",
            "text/plain": [
              "<Figure size 432x288 with 1 Axes>"
            ]
          },
          "metadata": {
            "needs_background": "light"
          },
          "output_type": "display_data"
        }
      ],
      "source": [
        "plt.plot(1/Ts, np.log(np.cosh(J/Ts)/np.sinh(J/Ts)))\n",
        "plt.xlabel(r'$1/T$')\n",
        "plt.ylabel(r'$B(T)$')\n",
        "plt.grid(ls='--', alpha=0.5, color='gray')\n",
        "plt.show()"
      ]
    },
    {
      "cell_type": "markdown",
      "metadata": {
        "id": "pOhSc2nQF9Nh"
      },
      "source": [
        "We see that as $B(T)\\xrightarrow{T\\to 0} 0$, and as $B(T)\\xrightarrow{T\\to \\infty} \\infty$. This makes sense according to our intuition, since the particle is either up or down (along the $z$ direction), while the magnetic field gets intensified as temperature increases along a transversal direction. Thus, the spin does not align to the magnetic field (it cannot move into the $x$ direction), but becomes increasingly unstable as the magnetic field increases.\n",
        "\n",
        "Indeed, let us consider a particle prepared in $\\ket{\\uparrow}$, expressed as a linear combination of the eigenvectors of $\\sigma_x$: $\\ket{x_+}, \\ket{x_-}$. Indeed, we have $\\ket{\\uparrow }= \\frac{1}{\\sqrt{2}}(\\ket{x_+}+\\ket{x_-})$. Then Schrödingers equation reads for a state $\\ket{\\psi} = a(t)\\ket{x_+}+b(t)\\ket{x_-}$ reads:\n",
        "\n",
        "$$i\\frac{\\partial}{\\partial t}(a(t)\\ket{x_+}+b(t)\\ket{x_-})= H\\ket{\\psi} = \\frac{B}{2}\\sigma_x \\ket{\\psi} = \\frac{B}{2}(a(t)\\ket{x_+}-b(t)\\ket{x_-})$$\n",
        "\n",
        "which is a simple ODE solved by \n",
        "$$a(t) = c_1e^{\\frac{-iB}{2}t},\\quad b(t) = c_2e^{\\frac{iB}{2}t}$$\n",
        "Enforcing $\\ket{\\psi(t=0)} = \\ket{\\uparrow}\\implies c_1 = c_2 = \\frac{1}{\\sqrt{2}}$. Indeed, at $t = \\frac{\\pi}{B}$, we have $\\frac{i}{\\sqrt{2}}(\\ket{x_+}-\\ket{x_-})\\sim\\ket{\\downarrow}$\n",
        "which, physically (in the projective Hilbert Space), is the spin down state. Thus, as $T\\to 0$, the state will not oscillate (or indeed very slowly), but as $T\\to \\infty$ it will oscillate wildly."
      ]
    },
    {
      "cell_type": "markdown",
      "metadata": {
        "id": "ycIMtNZw_Xrg"
      },
      "source": [
        "c) [I] Compute the partition function $U(N) = U(1)^N$ using Python's matrix multiplication as a function of temperature. You can use N = 100. Obtain the same plots as in problem 1.c) using this result.\n",
        "\n",
        "Hint: The partition function $U(1)^N$ is a $2\\times 2$ matrix now, not a number. But note that this is because the partition function depends on the boundary conditions. Each entry of the matrix corresponds to one of the four possible boundary conditions for this system. You should verify that for $N$ large enough your results don't depend on which of the four boundary conditions you choose. For $N=10$, does the minimum energy of the system depend on which boundary conditions you choose? If it does, why is that the case?"
      ]
    },
    {
      "cell_type": "code",
      "execution_count": 90,
      "metadata": {
        "id": "3bkUdBk-A1Ei"
      },
      "outputs": [
        {
          "data": {
            "image/png": "[encoded data removed]",
            "text/plain": [
              "<Figure size 432x288 with 1 Axes>"
            ]
          },
          "metadata": {
            "needs_background": "light"
          },
          "output_type": "display_data"
        },
        {
          "data": {
            "image/png": "[encoded data removed]",
            "text/plain": [
              "<Figure size 432x288 with 1 Axes>"
            ]
          },
          "metadata": {
            "needs_background": "light"
          },
          "output_type": "display_data"
        }
      ],
      "source": [
        "import numpy as np\n",
        "import matplotlib.pyplot as plt\n",
        "\n",
        "def U_N(N: int, betas: np.ndarray, J: float=1) -> np.ndarray:\n",
        "    U_1 = np.array([[np.exp(betas*J), np.exp(-betas*J)], [np.exp(-betas*J), np.exp(betas*J)]])\n",
        "    result = U_1.copy()\n",
        "    for _ in range(N-1):\n",
        "        result = np.einsum('ijl,jkl->ikl', U_1, result)\n",
        "    return result\n",
        "\n",
        "N = 100\n",
        "T = np.linspace(0.6, 5, 500)\n",
        "UN = U_N(N, 1/T)\n",
        "# plt.plot(T, UN[0, 0], label='U_00', ls='--') # we don't need to plot this because it is symmetric along both diagonals\n",
        "plt.plot(T, UN[0, 1], label='U_01', ls='--')\n",
        "# plt.plot(T, UN[1, 0], label='U_10', alpha=0.5)\n",
        "plt.plot(T, UN[1, 1], label='U_11', alpha=0.5)\n",
        "plt.legend()\n",
        "plt.title('N = 100')\n",
        "plt.xlabel('T')\n",
        "plt.grid()\n",
        "plt.show()\n",
        "\n",
        "N2 = 10\n",
        "UN2 = U_N(N2, 1/T)\n",
        "plt.title('N = 10')\n",
        "plt.plot(T, UN2[0, 1], label='U_01', ls='--')\n",
        "plt.plot(T, UN2[1, 1], label='U_11', alpha=0.5)\n",
        "plt.legend()\n",
        "plt.xlabel('T')\n",
        "plt.grid()\n",
        "plt.show()\n"
      ]
    },
    {
      "cell_type": "markdown",
      "metadata": {},
      "source": [
        "We can see that differences actualy become appreciable as our temperature approaches $0$. Indeed, for $T=0.3$ we begin seeing differences, but everything greater than that produces practically identical results. For $N=10$, we can see the difference starts becoming larger. We realize that, for larger $N$, a longer time step is taken, and thus the system cares less about the boundary conditions. We could probably relate this to the two point correlator in the statistical field theory."
      ]
    },
    {
      "cell_type": "markdown",
      "metadata": {
        "id": "Yh65fqq2gYpB"
      },
      "source": [
        "## 4. [I-III] Quantum dual of a 1D scalar field theory"
      ]
    },
    {
      "cell_type": "markdown",
      "metadata": {
        "id": "Qeqs4_fxhKXK"
      },
      "source": [
        "Consider a 1D statistical field theory on a line $[0,L]$ with coordinate $x$, a scalar field $\\phi$, and a Euclidean action\n",
        "$$S_E(\\phi)=\\int_0^L\\text{d}{x}\\,\\left(\\frac{1}{2}\\left(\\frac{\\text{d}\\phi}{\\text{d}x}\\right)^2+\\frac{1}{2}m^2\\phi^2\\right).$$\n",
        "We will impose the boundary conditions $\\phi(0)=\\varphi_i$ and $\\phi(L)=\\varphi_f$. The partition function of this theory can then be computed to be\n",
        "$$Z(L)=\\int\\mathcal{D}\\phi\\,e^{-S_E(\\phi)}=\\mathcal{N}\\sqrt{\\frac{m}{2\\sinh(m L)}}e^{-\\frac{1}{2}m((\\varphi_f^2+\\varphi_i^2)\\coth(mL)-2\\varphi_f\\varphi_i\\text{csch}(mL))}.$$\n",
        "In here $\\mathcal{N}$ is a proportionality constant which is not fixed by the statistical mechanics of this system.\n",
        "\n",
        "The quantum dual of this is then obtained by taking the Hilbert space to be the space spanned by the configurations of the string at a fixed $x$\n",
        "$$\\mathcal{H}=\\text{Span}\\{|\\varphi\\rangle|\\varphi\\in\\mathbb{R}\\}.$$\n",
        "The Hamiltonian of the system is then defined by demanding that\n",
        "$$Z(L)=\\langle\\varphi_f|U(L)|\\varphi_i\\rangle,$$\n",
        "where $U(L)=e^{-LH}$."
      ]
    },
    {
      "cell_type": "markdown",
      "metadata": {
        "id": "z6kJiaSJo6_Z"
      },
      "source": [
        "a) [II] Take the limit $L\\rightarrow 0$ and demand that $\\langle\\varphi_f|\\varphi_i\\rangle = \\delta(\\varphi_f-\\varphi_i)$, to fix $\\mathcal{N}$.\n",
        "\n",
        "Hint: $\\lim_{L\\rightarrow 0}f_L(x)=\\delta(x)$ if $\\lim_{L\\rightarrow 0}f_L(x)=0$ for $x\\neq 0$ and $\\lim_{L\\rightarrow 0}\\int_{-\\infty}^\\infty\\text{d}x\\,f_L(x)=1.$ It might also be useful to remember the Gaussian integration formula\n",
        "$$\\int_{-\\infty}^\\infty\\text{d}x\\,e^{-\\frac{1}{2}ax^2}=\\sqrt{\\frac{2\\pi}{a}}.$$"
      ]
    },
    {
      "cell_type": "markdown",
      "metadata": {
        "id": "Rc1L8a3NpNp0"
      },
      "source": [
        "$\\newcommand{\\inner}[2]{ \\bra{#1}\\hspace{-.45em}\\ket{#2} }$\n"
      ]
    },
    {
      "cell_type": "markdown",
      "metadata": {},
      "source": [
        "First, we start by looking at the exponent and completing the square. We have:\n",
        "\n",
        "\\begin{align*}\n",
        "(\\varphi_f^2+\\varphi_i^2)\\coth(x)-&2\\varphi_f\\varphi_i\\text{csch}(x)=\\\\\n",
        "&\\left(\\varphi_f \\sqrt{\\coth(x)}- \\frac{\\varphi_i \\text{csch(x)}}{\\sqrt{\\coth(x)}}\\right)^2 + \\varphi_i^2\\left(\\coth(x)-\\frac{\\text{csch}^2(x)}{\\coth(x)}\\right)\n",
        "\\end{align*}\n",
        "and \n",
        "\\begin{align*}\n",
        "    \\coth(x)-\\frac{\\text{csch}^2(x)}{\\coth(x)} &= \\frac{\\cosh(x)}{\\sinh(x)}-\\frac{1}{\\sinh^2(x)}\\frac{\\sinh(x)}{\\cosh(x)}=\\frac{\\cosh(x)}{\\sinh(x)}-\\frac{1}{\\cosh(x)\\sinh(x)}\\\\\n",
        "    &=\\frac{\\cosh(x)^2 -1}{\\cosh(x)\\sinh(x)} = \\frac{\\sinh^2(x)}{\\cosh(x)\\sinh(x)}=\\tanh(x)\n",
        "\\end{align*}\n",
        "\n",
        "Therefore, the exponential becomes: $e^{\\frac{m}{2}\\left[\\left(\\varphi_f \\sqrt{\\coth(mL)}- \\frac{\\varphi_i \\text{csch(mL)}}{\\sqrt{\\coth(mL)}}\\right)^2 + \\varphi_i^2\\tanh(mL)\\right]}$ where the second term does not depend on $\\varphi_f$. \n",
        "\n",
        "Now we proceed to compute:\n",
        "\n",
        "\\begin{align*} \n",
        "    1 &= \\int d \\varphi_f \\;\\inner{\\varphi_f}{\\varphi_i} = \\int d \\varphi_f \\;\\lim_{L\\to 0}\\bra{\\varphi_f}U(L)\\ket{\\varphi_i}=\\int d \\varphi_f \\;\\lim_{L\\to 0}\\mathcal{Z}(L) \\\\\n",
        "    &=\\int d \\varphi_f \\;\\lim_{L\\to 0} \\mathcal{N}\\sqrt{\\frac{m}{2\\sinh(m L)}}e^{-\\frac{1}{2}m((\\varphi_f^2+\\varphi_i^2)\\coth(mL)-2\\varphi_f\\varphi_i\\text{csch}(mL))}\\\\\n",
        "    &= \\lim_{L\\to 0} \\mathcal{N}\\sqrt{\\frac{m}{2\\sinh(m L)}}e^{-\\frac{m\\varphi_i^2 \\tanh(mL)}{2}}\\int d \\varphi_f e^{-\\frac{m}{2}\\left(\\varphi_f \\sqrt{\\coth(mL)}- \\frac{\\varphi_i \\text{csch(mL)}}{\\sqrt{\\coth(mL)}}\\right)^2}\\\\\n",
        "    & =\\mathcal{N} \\lim_{L\\to 0} \\sqrt{\\frac{m}{2\\sinh(m L)}}e^{-\\frac{m\\varphi_i^2 \\tanh(mL)}{2}} \\sqrt{\\tanh(mL)} \\int d \\xi e^{-\\frac{m}{2}\\xi^2}\\\\\n",
        "    &=\\mathcal{N} \\lim_{L\\to 0} \\sqrt{\\frac{m}{2\\cosh(m L)}}e^{-\\frac{m\\varphi_i^2 \\tanh(mL)}{2}}  \\sqrt{\\frac{2\\pi}{m}}\\\\& = \\mathcal{N}\\sqrt{\\pi}\\\\\n",
        "\\end{align*}\n",
        "\n",
        "where in the third line we have completed the square as shown before, in the fourth we have made the substitution $\\xi = \\varphi_f \\sqrt{\\coth(mL)}- \\frac{\\varphi_i \\text{csch(mL)} }{\\sqrt{\\coth(mL)}}$, and $\\text{d}\\xi =  \\sqrt{\\coth(mL)}\\mathrm{d}\\varphi_f$, in the fifth we have performed the gaussian integral, and in the sixth we have used that $\\cosh(0) = 1$ and $\\tanh(0)=0$. Thus, $\\mathcal{N} = \\frac{1}{\\sqrt{\\pi}}$\n"
      ]
    },
    {
      "cell_type": "markdown",
      "metadata": {
        "id": "VTuOmsAmptek"
      },
      "source": [
        "b) [III] Compute the Hamiltonian of the system $H=-\\left.\\frac{\\text{d}}{\\text{d}L}U(L)\\right|_{L=0}$.\n",
        "\n",
        "Hint: You might want to compute $\\langle \\varphi_f|H|\\varphi_i\\rangle$. As you might recall from quantum mechanics (e.g. the position matrix elements of the Hamiltonian of a free particle), this is a distribution. Therefore, the limit as $L\\rightarrow 0$ should be taken in the sense of distributions (e.g. the computation of the momentum operator with did in the meeting). Thus, don't panic if certain things look like they explode! Just proceed with care making sure you understand each approximation you are taking. For example, you might find relations like\n",
        "$$\\text{csch}(mL)^2\\rightarrow \\frac{1}{m^2L^2}-\\frac{1}{3}+\\mathcal{O}(mL)$$\n",
        "useful."
      ]
    },
    {
      "cell_type": "markdown",
      "metadata": {},
      "source": [
        "We first start by computing some derivatives:\n",
        "$$\\frac{d}{dx}\\coth(x) = \\frac{\\sinh(x)}{\\sinh(x)}- \\frac{\\cosh^2(x)}{\\sinh(x)} = -\\frac{1}{\\sinh^2(x)}= \\text{csch}^2(x)$$\n",
        "$$\\frac{d}{dx}\\text{csch} = -\\frac{1}{\\sinh^2(x)}\\cosh(x) = -\\coth(x)\\text{csch}(x)$$\n",
        "\n",
        "Now we calculate\n",
        "\\begin{align*}\n",
        "    \\frac{d}{dL} Z(L) &= Z(L)\\left(-\\frac{1}{2\\sinh(mL)}  \\frac{d}{dL}\\sinh(mL)- \\frac{m}{2}\\left[(\\varphi_f^2+\\varphi_i^2)\\frac{d}{dL}\\coth(mL)-2\\varphi_i\\varphi_f \\frac{d}{dL}\\text{csch}(mL)\\right]\\right)\\\\\n",
        "    &=Z(L)m^2\\left(-\\frac{1}{2m}\\coth(mL)+\\frac{1}{2}(\\varphi_i^2+\\varphi_f^2)\\text{csch}^2(mL)-\\varphi_i\\varphi_f\\coth(mL)\\text{csch}(mL)\\right)\n",
        "\\end{align*}\n",
        "\n",
        "We can similarly calculate\n",
        "\\begin{align*}\n",
        "    \\frac{d^2}{d\\varphi_f^2}Z(L) &= \\frac{d}{d\\varphi_f}\\left(\\frac{m}{2}Z(L)(2\\varphi_i \\text{csch}(mL)-2\\varphi_f \\coth(mL))\\right)\\\\\n",
        "    &=Z(L)\\left(m^2(\\varphi_i \\text{csch}(mL)-\\varphi_f \\coth(mL))^2-\\coth(mL)m\\right)\\\\\n",
        "    &=m^2 Z(L)\\left(\\varphi_i^2 \\text{csch}^2(mL)+\\varphi_f^2\\coth^2(mL)-2\\varphi_i  \\varphi_f\\text{csch}(mL) \\coth(mL)-\\frac{\\coth(mL)}{m}\\right)\n",
        "\\end{align*}\n",
        "\n",
        "Therefore, we have:\n",
        "\\begin{align*}\n",
        "    -\\frac{d}{dL}Z(L) &= -\\frac{1}{2}\\frac{d^2}{d\\varphi_f^2} Z(L) +m^2 Z(L)\\varphi_f^2 (\\coth^2(mL)-\\text{csch}^2(mL))\\\\\n",
        "    &=-\\frac{1}{2}\\frac{d^2}{d\\varphi_f^2} Z(L) +m^2 Z(L)\\varphi_f^2 \n",
        "\\end{align*}\n",
        "\n",
        "Therefore, we have:\n",
        "$$\\bra{\\varphi_f}H\\ket{\\varphi_i} = -\\lim_{L\\to 0}\\frac{d}{dL}\\bra{\\varphi_f}U(L)\\ket{\\varphi_i}=-\\frac{d^2}{d\\varphi_f^2}\\delta(\\varphi_f- \\varphi_i)+m^2\\varphi_f^2 \\delta(\\varphi_f-\\varphi_i)$$\n",
        "\n",
        "where we have exchanged the deriative with the limit formally, assuming everything converges. (There seems to be a factor of $m$ missing? Although by dimensional analysis of $Z(L)$, the fields seem to have units of $[\\varphi_f]=-\\frac{1}{2}$, so might be correct)."
      ]
    },
    {
      "cell_type": "markdown",
      "metadata": {
        "id": "mhnJxoMmIt2O"
      },
      "source": [
        "c) [II] In a quantum mechanical system of a particle in one dimension (notice that the dimension we are referring to here is very different from the dimension of the field $\\phi$, namely, it is not associated to the fact that the line with coordinate $x$ is one dimensional, but rather that we only have one field $\\phi$) there cannot be any degeneracies. Thus, the Hamiltonian has normalized eigenstates $\\{|n\\rangle|n=0,1,2,\\dots\\}$ such that $H|n\\rangle = E_n |n\\rangle$ for energies $E_0<E_1<E_2<\\cdots$. These eigenstates are unique up to a phase. Thus, the statistical operator has a spectral decomposition\n",
        " $$e^{- L H}=\\sum_{n}e^{-L E_n}|n\\rangle\\langle n|,$$\n",
        " or in other words, the matrix elements satisfy\n",
        " $$Z(L)=\\langle\\varphi_f|e^{- L H}|\\varphi_i\\rangle = \\sum_n e^{-L E_n}\\langle\\varphi_f|n\\rangle\\langle n|\\varphi_i\\rangle.$$\n",
        " Notice how each of these terms is a product of an $L$ dependent part, a $\\varphi_f$ dependent part and a $\\varphi_i$ dependent part.\n",
        "\n",
        " Expanding $Z(L)$ in powers of $e^{-mL}$, find the ground and first excited energies of the quantum dual, as well as their corresponding normalized eigenstates. Verify that the eigenstates are automatically normalized. Can you guess what are all of the possible energies of the quantum dual?"
      ]
    },
    {
      "cell_type": "markdown",
      "metadata": {
        "id": "gHpWlh4jLIbA"
      },
      "source": [
        "Given that the manifold slices that we are working with do not change over time, we proceed to analyze the case for $\\phi_f = \\phi_i = \\varphi$. Then, the equation above reads:\n",
        "$Z(L) = \\bra{\\varphi}e^{-LH}\\ket{\\varphi} = \\sum_n e^{-LE_n}|\\inner{\\varphi}{n}|^2$\n",
        "\n",
        "Then letting $\\mu \\coloneqq e^{-mL}$, we observe that $e^{-LE_n} = (e^{-mL})^{\\frac{E_n}{m}}$, and thus the exponents of $\\mu$ times $m$ will correspond to the energies $E_n$. We proceed to calculate:\n",
        "\n",
        "\\begin{align*}\n",
        "    \\text{csch}(mL)&=\\frac{2}{e^{mL}-e^{-mL}} = \\frac{2}{\\mu^{-1} - \\mu} = \\frac{2\\mu}{1-\\mu^2}\\\\\n",
        "    \\coth(mL)&=\\frac{\\mu^{-1}+\\mu}{\\mu^{-1}-\\mu} = \\frac{1+\\mu^2}{1-\\mu^2}\n",
        "\\end{align*}\n",
        "\n",
        "Then, $Z(L)$ becomes:\n",
        "\n",
        "\\begin{align*}\n",
        "    Z(L) &= \\mathcal{N}\\sqrt{\\frac{m}{2\\sinh(m L)}}e^{-\\frac{1}{2}m((\\varphi^2+\\varphi^2)\\coth(mL)-2\\varphi \\varphi \\text{csch}(mL))}\\\\\n",
        "    &=\\mathcal{N}\\sqrt{m}\\sqrt{\\frac{\\mu}{1-\\mu^2}}e^{-m\\varphi^2\\left(\\frac{1+\\mu^2}{1-\\mu^2}-2 \\frac{\\mu}{1-\\mu^2}\\right)}\\\\\n",
        "    &= \\mathcal{N}\\sqrt{m}\\sqrt{\\frac{\\mu}{1-\\mu^2}}e^{-m\\varphi^2\\left(\\frac{(1-\\mu)^2}{1-\\mu^2}\\right)} \\\\&= \\mathcal{N}\\sqrt{m}\\sqrt{\\frac{\\mu}{1-\\mu^2}}e^{-m\\varphi^2\\left(\\frac{1-\\mu}{1+\\mu}\\right)}\n",
        "\\end{align*}\n",
        "\n",
        "Now we proceed to analyze both terms separately.\n",
        "\n",
        "First of all, we expand the exponent using $e^x = \\sum\\frac{x^k}{k!}$. Before we do it, we taylor expand around $f(\\mu) = \\frac{1-\\mu}{1+\\mu}$, where we are working to second order in $\\mu$ because we are only interested in the zeroth and first eigenstates/energies.\n",
        "$$\\frac{d}{d\\mu}f(\\mu) = -\\frac{1}{1+\\mu}-\\frac{1-\\mu}{1+\\mu} \\xrightarrow{\\mu\\to 0} -2$$\n",
        " Then, we have $f(\\mu) = 1 - 2\\mu +O(\\mu^2)$. Then, expanding the exponent:\n",
        "\\begin{align*}\n",
        "    e^{-m\\varphi^2f(\\mu)} &= \\sum_{k}\\frac{(-m\\varphi^2f(\\mu))^k}{k!} = \\sum_{k}\\frac{(-m\\varphi^2)^k(1-2\\mu)^k}{k!}+O(\\mu^2)\\\\\n",
        "    & = \\sum_{k}\\frac{(-m\\varphi^2)^k(1-2k\\mu)}{k!}+O(\\mu^2)\\\\\n",
        "    &= \\sum_{k}\\frac{(-m\\varphi^2)^k}{k!} - (-2m\\varphi^2\\mu)\\sum_{k}\\frac{(-m\\varphi^2)^k}{k!}+O(\\mu^2)\\\\\n",
        "    &= e^{-m\\varphi^2}+2m\\varphi^2\\mu e^{-m\\varphi^2}+O(\\mu^2)\n",
        "\\end{align*}\n",
        "\n",
        "where, in the second line, we have simply used the first two coefficients of the binomial expansion and, in the third line, we have used that $k/k! = 1/(k-1)!$, but since the sum goes from $0$ to $\\infty$ we have just shifted the indices and factored out a $(-m\\varphi^2)$.\n",
        "\n",
        "Now we proceed to analyze the other term. We recall that $\\sqrt{\\mu}$ is not a smooth function at $\\mu=0$, and thus we cannot Taylor expand around this function. Nonetheless, $\\sqrt{\\frac{1}{1-\\mu^2}}$ is a smooth function at $\\mu=0$, and thus we proceed to expand around it. However, note that $\\sqrt{\\frac{1}{1-\\mu^2}}$ is an even function, and thus $$\\sqrt{\\frac{1}{1-\\mu^2}} = 1+O(\\mu^2)$$\n",
        "\n",
        "Thus, overall, we have:\n",
        "$$Z(L) = \\mathcal{N}\\sqrt{m}\\left(e^{-m\\varphi^2}\\mu^{\\frac{1}{2}}+2m\\varphi^2\\mu e^{-m\\varphi^2}\\mu^{\\frac{3}{2}}+O(\\mu^{\\frac{5}{2}})\\right)$$\n",
        "\n",
        "This means that $E_0 = \\frac{1}{2}m,\\, E_1 = \\frac{3}{2}m$, and in general we expect $E_n = m(\\frac{1}{2}+n)$. Similarly, letting $\\mathcal{N} = \\frac{1}{\\sqrt{\\pi}}$ as calculated before, we observe the eigenstates to be \n",
        "$$\\inner{\\varphi}{0} = \\left(\\frac{m}{\\pi}\\right)^{\\frac{1}{4}}e^{-\\frac{m\\varphi^2}{2}}$$\n",
        "and \n",
        "$$\\inner{\\varphi}{1} =  \\left(\\frac{m}{\\pi}\\right)^{\\frac{1}{4}}\\sqrt{2}\\sqrt{m}\\varphi e^{-\\frac{m\\varphi^2}{2}} =  \\left(\\frac{m}{\\pi}\\right)^{\\frac{1}{4}}\\sqrt{\\frac{1}{2}}H_1(\\sqrt{m}\\varphi)e^{-\\frac{m\\varphi^2}{2}}$$\n",
        "\n",
        "where $H_1(x) = 2x$ is the first hermit polynomial.\n",
        "\n",
        "This are indeed the eigenenergies and eigenstates of the QHO with $\\hbar = \\omega = 1$, which we know to be normalized :)"
      ]
    },
    {
      "cell_type": "markdown",
      "metadata": {
        "id": "U8exACxFx9nl"
      },
      "source": [
        "d) [I] Show that after the Wick rotation $x\\mapsto it$, we have $S_E\\mapsto -i S$, where $S$ is the action of a Harmonic Oscillator $\\phi(t)$ with unit mass and angular frequency $m$\n",
        "$$S=\\int_0^T\\text{d}t\\,\\left(\\frac{1}{2}\\left(\\frac{\\text{d}\\phi}{\\text{d}t}\\right)^2-\\frac{1}{2}m^2\\phi^2\\right).$$\n",
        "This problem does not require any knowledge of quantum mechanics.\n",
        "\n",
        "Observation: As a result of this problem and the results above, we see that the transition amplitudes of a Harmonic Oscillator are given in the path integral formulation by\n",
        "$$\\langle\\varphi_f|e^{-iHT}|\\varphi_i\\rangle = \\int\\mathcal{D}\\phi\\,e^{iS}.$$"
      ]
    },
    {
      "cell_type": "markdown",
      "metadata": {
        "id": "oebSjgEJcOPq"
      },
      "source": [
        "Under $x\\to it$, we have $\\text{d}x\\to i\\text{d}t$ and $\\frac{d}{dx}\\to\\frac{1}{i}\\frac{d}{dt}=-i\\frac{d}{dt}$. Letting $T = iL$ (?),\n",
        "\n",
        "we have:\n",
        "\\begin{align*}\n",
        "    S_E &= \\int_0^L\\text{d}{x}\\,\\left(\\frac{1}{2}\\left(\\frac{\\text{d}\\phi}{\\text{d}x}\\right)^2+\\frac{1}{2}m^2\\phi^2\\right)\\to \\int_{0}^T i\\text{d}{t}\\,\\left(\\frac{1}{2}\\left(-i\\frac{\\text{d}\\phi}{\\text{d}t}\\right)^2+\\frac{1}{2}m^2\\phi^2\\right) \\\\\n",
        "    &= i\\int_{0}^T\\left(-\\frac{1}{2}\\left(\\frac{\\text{d}\\phi}{\\text{d}t}\\right)^2+\\frac{1}{2}m^2\\phi^2\\right) = -iS\n",
        "\\end{align*}"
      ]
    },
    {
      "cell_type": "markdown",
      "metadata": {
        "id": "9e9iFJEuyuZO"
      },
      "source": [
        "e) [I] Verify the wave functions of $|0\\rangle$ and $|1\\rangle$ numerically by solving $H|\\psi\\rangle=E|\\psi\\rangle$ numerically, i.e. solving numerically the differential equation\n",
        "$$\\left(\\frac{1}{2}\\left(-\\frac{\\text{d}}{\\text{d}\\varphi}\\right)^2+\\frac{1}{2}m^2\\varphi^2\\right)\\psi(\\varphi)=E\\psi(\\varphi).$$\n",
        "In order to do this, it is useful to introduce a dimensionless position variable $x=\\sqrt{m}\\varphi$ and energy variables $\\epsilon = 2E/m$. One can also take $\\Pi=\\frac{\\text{d}\\psi}{\\text{d}x}$, so that we can rewrite this equation as a set of two coupled first order differential equations\n",
        "$$\\Pi=\\frac{\\text{d}\\psi}{\\text{d}x},$$\n",
        "and\n",
        "$$\\frac{\\text{d}\\Pi}{\\text{d}x}=\\left(x^2-\\epsilon \\right)\\psi.$$\n",
        "One can then start with an initial guess for $\\psi(0)$ and $\\Pi(0)$. Recall that for a symmetric potential, such as that of the Harmonic oscillator, one can choose a basis of states that are either symmetric or antisymmetric. Since the equation determines $\\psi$ only up to normalization, for the symmetric states we can WLOG choose $\\psi(0)=1$ and $\\Pi(0)=0$, while for the antisymmetric we can choose $\\psi(0)=0$ and $\\Pi(0)=1$. Of course, since in 1D the $|n\\rangle$ has $n$ nodes, the ground state is symmetric while the first excited state is antisymmetric. Then one grows the solution in steps of a small $\\Delta x$ using the discretized version of the formulae above\n",
        "$$\\psi(x+\\Delta x)=\\psi(x) + \\Pi(x)\\Delta x,$$\n",
        "$$\\Pi(x+\\Delta x) = \\Pi(x) + (x^2-\\epsilon)\\psi(x)\\Delta x.$$\n",
        "The chosen $E$ truly corresponds to an eigenenergy of the system if and only if the resulting wave function is normalizable.\n"
      ]
    },
    {
      "cell_type": "code",
      "execution_count": 36,
      "metadata": {
        "id": "sjbyk2ckEwTw"
      },
      "outputs": [
        {
          "name": "stdout",
          "output_type": "stream",
          "text": [
            "Zeroth state:\n",
            "Symmetric: even\n",
            "Normalization: 1.0000000000000004\n"
          ]
        },
        {
          "data": {
            "image/png": "[encoded data removed]",
            "text/plain": [
              "<Figure size 432x288 with 1 Axes>"
            ]
          },
          "metadata": {
            "needs_background": "light"
          },
          "output_type": "display_data"
        },
        {
          "name": "stdout",
          "output_type": "stream",
          "text": [
            "First state:\n",
            "Symmetric: odd\n",
            "Normalization: 1.0000000000000004\n"
          ]
        },
        {
          "data": {
            "image/png": "[encoded data removed]",
            "text/plain": [
              "<Figure size 432x288 with 1 Axes>"
            ]
          },
          "metadata": {
            "needs_background": "light"
          },
          "output_type": "display_data"
        },
        {
          "name": "stdout",
          "output_type": "stream",
          "text": [
            "Second state:\n",
            "Symmetric: even\n",
            "Normalization: 1.0000000000000004\n"
          ]
        },
        {
          "data": {
            "image/png": "[encoded data removed]",
            "text/plain": [
              "<Figure size 432x288 with 1 Axes>"
            ]
          },
          "metadata": {
            "needs_background": "light"
          },
          "output_type": "display_data"
        }
      ],
      "source": [
        "import numpy as np\n",
        "import matplotlib.pyplot as plt\n",
        "\n",
        "def main(E: float, m: float=1, delx = 1e-5) -> None:\n",
        "    symmetric = int(E/m-1/2)%2 == 0\n",
        "    str_symmetric = \"even\" if symmetric else \"odd\"\n",
        "    print(f\"Symmetric: {str_symmetric}\")\n",
        "    epsilon = 2*E/m\n",
        "    psi0, Pi0 = (1, 0) if symmetric else (0, 1)\n",
        "    x_upper = np.arange(0, 4, delx)\n",
        "    x_lower = -np.arange(0, 4, delx)\n",
        "    \n",
        "    psi_upper, psi_lower = np.zeros(len(x_upper)), np.zeros(len(x_lower))\n",
        "    Pi_upper, Pi_lower = np.zeros(len(x_upper)), np.zeros(len(x_lower))\n",
        "    \n",
        "    psi_upper[0], psi_lower[0] = psi0, psi0\n",
        "    Pi_upper[0], Pi_lower[0] = Pi0, Pi0\n",
        "    for i in range(len(x_upper)-1):\n",
        "        psi_upper[i+1] = psi_upper[i] + delx * Pi_upper[i]\n",
        "        Pi_upper[i+1] = Pi_upper[i] + delx * (x_upper[i] ** 2-epsilon) * psi_upper[i]\n",
        "    for i in range(len(x_lower)-1):\n",
        "        psi_lower[i+1] = psi_lower[i] - delx * Pi_lower[i]\n",
        "        Pi_lower[i+1] = Pi_lower[i] - delx * (x_lower[i] ** 2-epsilon) * psi_lower[i]\n",
        "    color_psi, color_pi = \"slateblue\", \"pink\"\n",
        "    x = np.concatenate((x_lower[::-1], x_upper))\n",
        "    psi = np.concatenate((psi_lower[::-1], psi_upper))\n",
        "    Pi = np.concatenate((Pi_lower[::-1], Pi_upper))\n",
        "    psi = psi/np.sqrt(np.sum(np.abs(psi)**2)*delx)\n",
        "    Pi = Pi/np.sqrt(np.sum(np.abs(Pi)**2)*delx)\n",
        "    print(f\"Normalization: {np.sum(np.abs(Pi)**2)*delx}\")\n",
        "    plt.plot(x, psi, label=r\"$\\psi(x)$\", color=color_psi)\n",
        "    plt.plot(x, Pi, label=r\"$\\Pi(x)$\", color=color_pi, ls=\"--\")\n",
        "    plt.title(rf\"QHO with $E = {E}, m={m}$\")\n",
        "    plt.xlim(-4, 4)\n",
        "    # plt.ylim(-2, 2)\n",
        "    plt.legend()\n",
        "    plt.grid(ls=\"--\")\n",
        "    plt.show()\n",
        "    return None\n",
        "\n",
        "print(\"Zeroth state:\")\n",
        "main(E=+1/2)\n",
        "print(\"First state:\")\n",
        "main(E=+3/2)\n",
        "print(\"Second state:\")\n",
        "main(E=+5/2)\n",
        "        \n",
        "\n"
      ]
    },
    {
      "cell_type": "markdown",
      "metadata": {
        "id": "e4_VARcfJUAn"
      },
      "source": [
        "We clearly see that the states behave exactly acoording to our predictions."
      ]
    },
    {
      "cell_type": "markdown",
      "metadata": {
        "id": "0lo_UneZmtLA"
      },
      "source": [
        "## 5. [I] Report"
      ]
    },
    {
      "cell_type": "markdown",
      "metadata": {
        "id": "PAcXqkp1djk0"
      },
      "source": [
        "Describe your progress throughout the week. What have you learned? Which parts were challenging? What would you like to delve into further in the future?"
      ]
    },
    {
      "cell_type": "markdown",
      "metadata": {
        "id": "Y-dydslhesS1"
      },
      "source": [
        "This week's set was probably my favorite so far. I had not really seen before this way of thinking about QFTs and it has opened my eyes _so much_ (I was struggling before with e.g., Operator-State correspondance in CFTs, but after internalizing this week's content it became clear). The numerical exercises I had done before, but the analytic problems through this new formalism (both QHO and spin 1/2 particle) where a first. I really really enjoyed the part where we converted our Hamiltonian into a magnetic field $\\cdot$ sigma matrices because it became extremely intuitive, and it offered a completely different perspective to understand the ising system/spin 1/2 particle correspondance. The QHO exercises were a bit more involved but very rewarding (didn't improve my intuition about the system as much as the spin 1/2, but it did make me feel much more comfortable with this system (I feel like I can use a sledgehammer now to solve this kind of problems))."
      ]
    }
  ],
  "metadata": {
    "colab": {
      "provenance": []
    },
    "kernelspec": {
      "display_name": "Python 3",
      "name": "python3"
    },
    "language_info": {
      "codemirror_mode": {
        "name": "ipython",
        "version": 3
      },
      "file_extension": ".py",
      "mimetype": "text/x-python",
      "name": "python",
      "nbconvert_exporter": "python",
      "pygments_lexer": "ipython3",
      "version": "3.8.5"
    }
  },
  "nbformat": 4,
  "nbformat_minor": 0
}
